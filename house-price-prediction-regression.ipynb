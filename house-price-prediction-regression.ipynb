{
  "nbformat": 4,
  "nbformat_minor": 0,
  "metadata": {
    "kernelspec": {
      "language": "python",
      "display_name": "Python 3",
      "name": "python3"
    },
    "language_info": {
      "pygments_lexer": "ipython3",
      "nbconvert_exporter": "python",
      "version": "3.6.4",
      "file_extension": ".py",
      "codemirror_mode": {
        "name": "ipython",
        "version": 3
      },
      "name": "python",
      "mimetype": "text/x-python"
    },
    "colab": {
      "name": "house-price-prediction-regression.ipynb",
      "provenance": []
    }
  },
  "cells": [
    {
      "cell_type": "markdown",
      "metadata": {
        "id": "LXyBbWL7JBPp"
      },
      "source": [
        "**Task**: It is your job to predict the sales price for each house. For each Id in the test set, you must predict the value of the SalePrice variable. \n",
        "\n",
        "**Evaluation**: Submissions are evaluated on Root-Mean-Squared-Error (RMSE) between the logarithm of the predicted value and the logarithm of the observed sales price."
      ]
    },
    {
      "cell_type": "markdown",
      "metadata": {
        "id": "D5IvkGsHJBPs"
      },
      "source": [
        "This notebook has been created after studying [this notebook.](https://www.kaggle.com/ankitverma2010/house-prices-prediction-beginner-to-advanced#Exploratory-Data-Analysis)"
      ]
    },
    {
      "cell_type": "code",
      "metadata": {
        "_uuid": "8f2839f25d086af736a60e9eeb907d3b93b6e0e5",
        "_cell_guid": "b1076dfc-b9ad-4769-8c92-a6c4dae69d19",
        "trusted": true,
        "id": "VD5gcZztJBPs"
      },
      "source": [
        "import os\n",
        "for dirname, _, filenames in os.walk('/kaggle/input'):\n",
        "    for filename in filenames:\n",
        "        print(os.path.join(dirname, filename))"
      ],
      "execution_count": 2,
      "outputs": []
    },
    {
      "cell_type": "markdown",
      "metadata": {
        "id": "b16g_p0jJBPt"
      },
      "source": [
        "## Import libraries"
      ]
    },
    {
      "cell_type": "code",
      "metadata": {
        "trusted": true,
        "id": "a7aDBTtmJBPu"
      },
      "source": [
        "# Python imports\n",
        "import os\n",
        "\n",
        "# Maths and data imports\n",
        "import numpy as np\n",
        "import pandas as pd\n",
        "\n",
        "# Plot imports\n",
        "import seaborn as sns\n",
        "import matplotlib.pyplot as plt\n",
        "\n",
        "# ML modeling imports\n",
        "from sklearn.impute import SimpleImputer\n",
        "from sklearn.model_selection import train_test_split\n",
        "from sklearn.preprocessing import StandardScaler, OneHotEncoder\n",
        "from sklearn.linear_model import LinearRegression\n",
        "from sklearn.ensemble import RandomForestRegressor\n",
        "from sklearn.ensemble import AdaBoostRegressor\n",
        "from sklearn.metrics import mean_squared_error as mse\n",
        "from xgboost import XGBRegressor"
      ],
      "execution_count": 3,
      "outputs": []
    },
    {
      "cell_type": "code",
      "metadata": {
        "trusted": true,
        "id": "ktAb8hFQJBPw"
      },
      "source": [
        "%matplotlib inline\n",
        "sns.set()"
      ],
      "execution_count": 4,
      "outputs": []
    },
    {
      "cell_type": "code",
      "metadata": {
        "trusted": true,
        "id": "su6p9s0CJBPx"
      },
      "source": [
        "import warnings\n",
        "warnings.filterwarnings('ignore')"
      ],
      "execution_count": 5,
      "outputs": []
    },
    {
      "cell_type": "code",
      "metadata": {
        "colab": {
          "resources": {
            "http://localhost:8080/nbextensions/google.colab/files.js": {
              "data": "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",
              "ok": true,
              "headers": [
                [
                  "content-type",
                  "application/javascript"
                ]
              ],
              "status": 200,
              "status_text": ""
            }
          },
          "base_uri": "https://localhost:8080/",
          "height": 41
        },
        "id": "bFlH4do7JOzg",
        "outputId": "991ee63f-f59f-4ac9-aeeb-f65ea4699800"
      },
      "source": [
        "from google.colab import files\r\n",
        "myfile = files.upload()"
      ],
      "execution_count": null,
      "outputs": [
        {
          "output_type": "display_data",
          "data": {
            "text/html": [
              "\n",
              "     <input type=\"file\" id=\"files-00da41ce-8bc9-454d-a642-c1460803719c\" name=\"files[]\" multiple disabled\n",
              "        style=\"border:none\" />\n",
              "     <output id=\"result-00da41ce-8bc9-454d-a642-c1460803719c\">\n",
              "      Upload widget is only available when the cell has been executed in the\n",
              "      current browser session. Please rerun this cell to enable.\n",
              "      </output>\n",
              "      <script src=\"/nbextensions/google.colab/files.js\"></script> "
            ],
            "text/plain": [
              "<IPython.core.display.HTML object>"
            ]
          },
          "metadata": {
            "tags": []
          }
        }
      ]
    },
    {
      "cell_type": "code",
      "metadata": {
        "trusted": true,
        "id": "LkbYMXW1JBPy"
      },
      "source": [
        "train = pd.read_csv('/kaggle/input/house-prices-advanced-regression-techniques/train.csv', index_col='Id')\n",
        "test = pd.read_csv('/kaggle/input/house-prices-advanced-regression-techniques/test.csv', index_col='Id')"
      ],
      "execution_count": null,
      "outputs": []
    },
    {
      "cell_type": "code",
      "metadata": {
        "trusted": true,
        "id": "gCoAq11bJBPy"
      },
      "source": [
        "train_df = train.copy()\n",
        "test_df = test.copy()"
      ],
      "execution_count": null,
      "outputs": []
    },
    {
      "cell_type": "markdown",
      "metadata": {
        "id": "4T79wTt5JBP1"
      },
      "source": [
        "## Data Preprocessing"
      ]
    },
    {
      "cell_type": "code",
      "metadata": {
        "trusted": true,
        "id": "PJebV-hBJBP2"
      },
      "source": [
        "train_df.head()"
      ],
      "execution_count": null,
      "outputs": []
    },
    {
      "cell_type": "code",
      "metadata": {
        "trusted": true,
        "id": "MPm2GPdGJBP2"
      },
      "source": [
        "train_df.shape"
      ],
      "execution_count": null,
      "outputs": []
    },
    {
      "cell_type": "code",
      "metadata": {
        "trusted": true,
        "id": "ReujwXZHJBP3"
      },
      "source": [
        "train_df.info()"
      ],
      "execution_count": null,
      "outputs": []
    },
    {
      "cell_type": "code",
      "metadata": {
        "trusted": true,
        "id": "Xl-p0c_vJBP4"
      },
      "source": [
        "# MSSubClass, OverallQual and OverallCond and categorical variable, lets convert it into one.\n",
        "train_df['MSSubClass'] = train_df['MSSubClass'].astype('object')\n",
        "train_df['OverallQual'] = train_df['OverallQual'].astype('object')\n",
        "train_df['OverallCond'] = train_df['OverallCond'].astype('object')\n",
        "\n",
        "test_df['MSSubClass'] = test_df['MSSubClass'].astype('object')\n",
        "test_df['OverallQual'] = test_df['OverallQual'].astype('object')\n",
        "test_df['OverallCond'] = test_df['OverallCond'].astype('object')"
      ],
      "execution_count": null,
      "outputs": []
    },
    {
      "cell_type": "markdown",
      "metadata": {
        "id": "Wim6WgKTJBP6"
      },
      "source": [
        "Let's now seperate the categorical and numerical columns"
      ]
    },
    {
      "cell_type": "code",
      "metadata": {
        "trusted": true,
        "id": "M1hnQGKyJBP8"
      },
      "source": [
        "def get_var_dtype_list(df):\n",
        "    cat_cols = []\n",
        "    num_cols = []\n",
        "\n",
        "    for col in df.columns:\n",
        "        if df[col].dtypes == 'object':\n",
        "            cat_cols.append(col)\n",
        "        else:\n",
        "            num_cols.append(col)\n",
        "    return (cat_cols, num_cols)"
      ],
      "execution_count": null,
      "outputs": []
    },
    {
      "cell_type": "code",
      "metadata": {
        "trusted": true,
        "id": "3xS4QBW1JBP8"
      },
      "source": [
        "cat_cols_train, num_cols_train = get_var_dtype_list(train_df)"
      ],
      "execution_count": null,
      "outputs": []
    },
    {
      "cell_type": "code",
      "metadata": {
        "trusted": true,
        "id": "7OwHQpZAJBP9"
      },
      "source": [
        "cat_cols_test, num_cols_test = get_var_dtype_list(test_df)"
      ],
      "execution_count": null,
      "outputs": []
    },
    {
      "cell_type": "markdown",
      "metadata": {
        "id": "32JzBs8jJBP-"
      },
      "source": [
        "Let's take log of SalePrice as our evaluation metric is log RMS value."
      ]
    },
    {
      "cell_type": "code",
      "metadata": {
        "trusted": true,
        "id": "9QdBNONrJBP-"
      },
      "source": [
        "train_df['SalePrice'] = np.log(train_df['SalePrice'])"
      ],
      "execution_count": null,
      "outputs": []
    },
    {
      "cell_type": "markdown",
      "metadata": {
        "id": "8Wp7HOmsJBP_"
      },
      "source": [
        "## EDA\n",
        "\n",
        "In EDA we will analyse data to see if there is any - \n",
        "1. Skewness in features\n",
        "2. Check for missing values and ouliers and fix them.\n",
        "3. Check the variability of different features and scale them.\n",
        "4. Check for multicolinearity among multiple exploratory variables (features).\n",
        "5. Check if response variable is correlated to any/may exploratory variable(s).\n",
        "6. Analyse the target/response variable."
      ]
    },
    {
      "cell_type": "markdown",
      "metadata": {
        "id": "onfyIy7GJBP_"
      },
      "source": [
        "### Lets check distribution fo continuous columns"
      ]
    },
    {
      "cell_type": "code",
      "metadata": {
        "trusted": true,
        "id": "ccw5nGx7JBP_"
      },
      "source": [
        "fig, axs = plt.subplots(len(num_cols_train)//5, 5, figsize=(30, 30))\n",
        "for col, ax in zip(num_cols_train[:-1], axs.flatten()):\n",
        "    sns.distplot(train_df[col], ax=ax)\n",
        "    ax.set_title(col)\n",
        "    ax.set_xlabel('')\n",
        "    ax.set_ylabel('')\n",
        "plt.show()"
      ],
      "execution_count": null,
      "outputs": []
    },
    {
      "cell_type": "markdown",
      "metadata": {
        "id": "vqB__YbaJBQB"
      },
      "source": [
        "**Conclusion**\n",
        "\n",
        "1. There is  large variation in the scale of each continuous variables, hence, we need to scale them.\n",
        "2. Features such as YearBuilt and GarageYrBlt are left skewed, indicating that more houses were build in the later years hence, more garages were also built then. So, we might want to leave such variable for outlier check.\n",
        "3. Exploratory varibales - 'LotArea', 'MasVnrArea', 'BsmtFinSF1', 'BsmtFinSF2', 'BsmtUnfSF', 'LowQualFinSF', 'BsmtHalfBath', 'WoodDeckSF', 'OpenPorchSF', 'EnclosedPorch', '3SsnPorch', 'ScreenPorch', 'PoolArea', 'MiscVal' are heavily right skewed.\n",
        "\n",
        "Let's further explore these variables."
      ]
    },
    {
      "cell_type": "code",
      "metadata": {
        "trusted": true,
        "id": "vHOgPzYbJBQB"
      },
      "source": [
        "right_skewed = ['LotArea', 'MasVnrArea', 'BsmtFinSF1', 'BsmtFinSF2', 'BsmtUnfSF', \n",
        "                'LowQualFinSF', 'BsmtHalfBath', 'WoodDeckSF', 'OpenPorchSF', \n",
        "                'EnclosedPorch', '3SsnPorch', 'ScreenPorch', 'PoolArea', 'MiscVal']"
      ],
      "execution_count": null,
      "outputs": []
    },
    {
      "cell_type": "code",
      "metadata": {
        "trusted": true,
        "id": "mcDHnj79JBQC"
      },
      "source": [
        "r_skew_desc = train_df[right_skewed].describe().T\n",
        "r_skew_desc['coef_of_var'] = r_skew_desc['std']/r_skew_desc['mean']\n",
        "\n",
        "r_skew_desc"
      ],
      "execution_count": null,
      "outputs": []
    },
    {
      "cell_type": "markdown",
      "metadata": {
        "id": "nzHoZmg9JBQC"
      },
      "source": [
        "We can see a huge variation in lot of features. For now we can drop the columns with coefficient of variation > 3.\n",
        "\n",
        "As the number of missing values is zero or near to zero in most of the features we would like to further analyse them (maybe take log to reduce the right skewness) and embrace the variability.\n",
        "\n",
        "But for now lets got with dropping them off, and compare the effects in the next iteration/followup."
      ]
    },
    {
      "cell_type": "code",
      "metadata": {
        "trusted": true,
        "id": "3Tl6INnHJBQF"
      },
      "source": [
        "r_skew_desc[r_skew_desc['coef_of_var']>3].T.columns"
      ],
      "execution_count": null,
      "outputs": []
    },
    {
      "cell_type": "code",
      "metadata": {
        "trusted": true,
        "id": "jIL5Lo47JBQG"
      },
      "source": [
        "drop_skew_cols = ['BsmtFinSF2', 'LowQualFinSF', 'BsmtHalfBath', '3SsnPorch',\n",
        "                  'ScreenPorch', 'PoolArea', 'MiscVal']\n",
        "\n",
        "train_df.drop(drop_skew_cols, axis=1, inplace=True)\n",
        "test_df.drop(drop_skew_cols, axis=1, inplace=True)"
      ],
      "execution_count": null,
      "outputs": []
    },
    {
      "cell_type": "code",
      "metadata": {
        "trusted": true,
        "id": "0gO35oVrJBQH"
      },
      "source": [
        "train_df.columns"
      ],
      "execution_count": null,
      "outputs": []
    },
    {
      "cell_type": "markdown",
      "metadata": {
        "id": "HTi0FSa6JBQH"
      },
      "source": [
        "Let's update out list of numerical columns list."
      ]
    },
    {
      "cell_type": "code",
      "metadata": {
        "trusted": true,
        "id": "Hcq0V1fOJBQI"
      },
      "source": [
        "cat_cols_train, num_cols_train = get_var_dtype_list(train_df)\n",
        "cat_cols_test, num_cols_test = get_var_dtype_list(test_df)"
      ],
      "execution_count": null,
      "outputs": []
    },
    {
      "cell_type": "markdown",
      "metadata": {
        "id": "qvk29uhDJBQI"
      },
      "source": [
        "### Let check and impute missing values in continuous variables"
      ]
    },
    {
      "cell_type": "code",
      "metadata": {
        "trusted": true,
        "id": "SBZvsEG7JBQJ"
      },
      "source": [
        "def get_missing_stats(df, col_list, threshold=0):\n",
        "    total = len(df)\n",
        "    for col in col_list:\n",
        "        null = df[col].isnull().sum()\n",
        "        if null > 0 and null/total >= threshold:\n",
        "            print(col)\n",
        "            if df[col].dtypes == 'object':\n",
        "                print(df[col].value_counts())\n",
        "            print(f'Missing values: {null} of {total}')\n",
        "            print(f'Percent missing values: {round((null*100)/total, 2)}%\\n')"
      ],
      "execution_count": null,
      "outputs": []
    },
    {
      "cell_type": "code",
      "metadata": {
        "trusted": true,
        "id": "EcOwBg1HJBQJ"
      },
      "source": [
        "get_missing_stats(train_df, num_cols_train)"
      ],
      "execution_count": null,
      "outputs": []
    },
    {
      "cell_type": "code",
      "metadata": {
        "trusted": true,
        "id": "JdPJV1j2JBQK"
      },
      "source": [
        "get_missing_stats(test_df, num_cols_test)"
      ],
      "execution_count": null,
      "outputs": []
    },
    {
      "cell_type": "markdown",
      "metadata": {
        "id": "JnU0--kqJBQL"
      },
      "source": [
        "It does not seem to be extreme case of missing values so, we can simply replace by the median (as the data seem to be highly variable and median is a robust metric) of training set in both the training and test set."
      ]
    },
    {
      "cell_type": "code",
      "metadata": {
        "trusted": true,
        "id": "JDbFfaXjJBQL"
      },
      "source": [
        "imputer = SimpleImputer(strategy='median')\n",
        "train_df[num_cols_train[:-1]] = imputer.fit_transform(train_df[num_cols_train[:-1]])\n",
        "test_df[num_cols_test] = imputer.transform(test_df[num_cols_test])"
      ],
      "execution_count": null,
      "outputs": []
    },
    {
      "cell_type": "code",
      "metadata": {
        "trusted": true,
        "id": "p2_D3EzaJBQL"
      },
      "source": [
        "get_missing_stats(train_df, num_cols_train)"
      ],
      "execution_count": null,
      "outputs": []
    },
    {
      "cell_type": "code",
      "metadata": {
        "trusted": true,
        "id": "JH_KvbdNJBQL"
      },
      "source": [
        "get_missing_stats(test_df, num_cols_test)"
      ],
      "execution_count": null,
      "outputs": []
    },
    {
      "cell_type": "markdown",
      "metadata": {
        "id": "oqV2_QD4JBQM"
      },
      "source": [
        "So, the missing values for numerical columns have disappeared. Now, lets hit the categorical columns."
      ]
    },
    {
      "cell_type": "markdown",
      "metadata": {
        "id": "5ccyed7UJBQM"
      },
      "source": [
        "### Now, lets check and impute missing values of categorical columns."
      ]
    },
    {
      "cell_type": "code",
      "metadata": {
        "trusted": true,
        "id": "5BggF2c3JBQM"
      },
      "source": [
        "get_missing_stats(train_df, cat_cols_train)"
      ],
      "execution_count": null,
      "outputs": []
    },
    {
      "cell_type": "code",
      "metadata": {
        "trusted": true,
        "id": "IpNcVwHPJBQM"
      },
      "source": [
        "get_missing_stats(test_df, cat_cols_test)"
      ],
      "execution_count": null,
      "outputs": []
    },
    {
      "cell_type": "markdown",
      "metadata": {
        "id": "xhwk_Qa6JBQM"
      },
      "source": [
        "Some columns seet to have quite a number of missing values. Lets further analyse them using barplot."
      ]
    },
    {
      "cell_type": "code",
      "metadata": {
        "trusted": true,
        "id": "8UvtKHywJBQN"
      },
      "source": [
        "fig, axs = plt.subplots(len(cat_cols_train)//5, 5, figsize=(30, 40))\n",
        "for col, ax in zip(cat_cols_train, axs.flatten()):\n",
        "    y = train_df[col].value_counts()\n",
        "    ax.bar(y.index, y.values)\n",
        "    ax.set_title(col)\n",
        "    ax.set_xlabel('')\n",
        "    ax.set_ylabel('')\n",
        "    for tick in ax.get_xticklabels():\n",
        "        tick.set_rotation(35)\n",
        "plt.show()"
      ],
      "execution_count": null,
      "outputs": []
    },
    {
      "cell_type": "markdown",
      "metadata": {
        "id": "CDfkl3aSJBQN"
      },
      "source": [
        "Let's just analyse the columns with missing frequency greater than 40%."
      ]
    },
    {
      "cell_type": "code",
      "metadata": {
        "trusted": true,
        "id": "PPXPdiJ2JBQN"
      },
      "source": [
        "get_missing_stats(train_df, cat_cols_train, 0.4)"
      ],
      "execution_count": null,
      "outputs": []
    },
    {
      "cell_type": "code",
      "metadata": {
        "trusted": true,
        "id": "Xm2lSsywJBQO"
      },
      "source": [
        "get_missing_stats(test_df, cat_cols_test, 0.4)"
      ],
      "execution_count": null,
      "outputs": []
    },
    {
      "cell_type": "markdown",
      "metadata": {
        "id": "PqsWMUc3JBQO"
      },
      "source": [
        "We can infer two cases from above:\n",
        "1. The houses did not have these features\n",
        "2. The houses did have these features but were not reported.\n",
        "\n",
        "However, if we think then it seems feasible to assume that all the houses surveyed did not have all the 80 features. So, for now we can impute the missing values (with freq. > 40%) with N.A, where as missing values of columns with freq < 40% with most frequent value.\n",
        "\n",
        "I think it will be safe to assume and hypothesise that maybe the localities in which the houses were surveyed did not have the above features, thus introducing selective bias in data collection. Although, we can not be certain of it."
      ]
    },
    {
      "cell_type": "code",
      "metadata": {
        "trusted": true,
        "id": "OyYRNj69JBQO"
      },
      "source": [
        "train_df.drop(['PoolQC'], axis=1, inplace=True)\n",
        "test_df.drop(['PoolQC'], axis=1, inplace=True)"
      ],
      "execution_count": null,
      "outputs": []
    },
    {
      "cell_type": "code",
      "metadata": {
        "trusted": true,
        "id": "6Ca03etnJBQO"
      },
      "source": [
        "na_cols = ['Alley','FireplaceQu','Fence','MiscFeature']\n",
        "\n",
        "na_imputer = SimpleImputer(strategy='constant', fill_value='N.A')\n",
        "train_df[na_cols] = na_imputer.fit_transform(train_df[na_cols])\n",
        "test_df[na_cols] = na_imputer.transform(test_df[na_cols])"
      ],
      "execution_count": null,
      "outputs": []
    },
    {
      "cell_type": "code",
      "metadata": {
        "trusted": true,
        "id": "d3yXrdv0JBQP"
      },
      "source": [
        "cat_cols_train, num_cols_train = get_var_dtype_list(train_df)\n",
        "cat_cols_test, num_cols_test = get_var_dtype_list(test_df)"
      ],
      "execution_count": null,
      "outputs": []
    },
    {
      "cell_type": "code",
      "metadata": {
        "trusted": true,
        "id": "J2peFc4LJBQP"
      },
      "source": [
        "mf_imputer = SimpleImputer(strategy='most_frequent')\n",
        "train_df[cat_cols_train] = mf_imputer.fit_transform(train_df[cat_cols_train])\n",
        "test_df[cat_cols_test] = mf_imputer.transform(test_df[cat_cols_test])"
      ],
      "execution_count": null,
      "outputs": []
    },
    {
      "cell_type": "code",
      "metadata": {
        "trusted": true,
        "id": "c9KNi5EUJBQP"
      },
      "source": [
        "get_missing_stats(train_df, cat_cols_train)"
      ],
      "execution_count": null,
      "outputs": []
    },
    {
      "cell_type": "code",
      "metadata": {
        "trusted": true,
        "id": "t7XnjGuZJBQP"
      },
      "source": [
        "get_missing_stats(test_df, cat_cols_test)"
      ],
      "execution_count": null,
      "outputs": []
    },
    {
      "cell_type": "markdown",
      "metadata": {
        "id": "t6IQrsJSJBQQ"
      },
      "source": [
        "Finally, we have dealt with missing values. Now, lets check for multicolinearity among exploratory variables."
      ]
    },
    {
      "cell_type": "code",
      "metadata": {
        "trusted": true,
        "id": "izdzY4B_JBQQ"
      },
      "source": [
        "plt.figure(figsize=(20, 20))\n",
        "sns.heatmap(train_df.drop(['SalePrice'], axis=1).corr(), annot=True)\n",
        "plt.show()"
      ],
      "execution_count": null,
      "outputs": []
    },
    {
      "cell_type": "code",
      "metadata": {
        "trusted": true,
        "id": "t2iSfR8VJBQQ"
      },
      "source": [
        "cor = train_df.drop(['SalePrice'], axis=1).corr()\n",
        "for i, col in enumerate(cor.columns):\n",
        "    for row in cor.index[i+1:]:\n",
        "        if col != row and cor[col][row] > 0.7:\n",
        "            print(f'({row}, {col}): {cor[col][row]}')"
      ],
      "execution_count": null,
      "outputs": []
    },
    {
      "cell_type": "markdown",
      "metadata": {
        "id": "7tKUeXJUJBQR"
      },
      "source": [
        "Hmm...From the overwhelming plots above we can see that few varibles are highly correlated, and it makes sense for them to be correlated. Hence, for now we might want to keep them."
      ]
    },
    {
      "cell_type": "markdown",
      "metadata": {
        "id": "89iNMl_qJBQR"
      },
      "source": [
        "### Scale variables"
      ]
    },
    {
      "cell_type": "code",
      "metadata": {
        "trusted": true,
        "id": "nGoGoIPiJBQR"
      },
      "source": [
        "scaler = StandardScaler()\n",
        "train_df[num_cols_train[:-1]] = scaler.fit_transform(train_df[num_cols_train[:-1]])\n",
        "test_df[num_cols_test] = scaler.transform(test_df[num_cols_test])"
      ],
      "execution_count": null,
      "outputs": []
    },
    {
      "cell_type": "markdown",
      "metadata": {
        "id": "ZBCAGWP3JBQR"
      },
      "source": [
        "### One-hot encoding of categorical columns\n",
        "\n",
        "For now, let's simply one hot encode the categorical columns."
      ]
    },
    {
      "cell_type": "code",
      "metadata": {
        "trusted": true,
        "id": "zYO7Z8yCJBQS"
      },
      "source": [
        "cat_cols_train"
      ],
      "execution_count": null,
      "outputs": []
    },
    {
      "cell_type": "code",
      "metadata": {
        "trusted": true,
        "id": "rhvxiXE7JBQS"
      },
      "source": [
        "cat_cols_train, num_cols_train = get_var_dtype_list(train_df)\n",
        "cat_cols_test, num_cols_test = get_var_dtype_list(test_df)"
      ],
      "execution_count": null,
      "outputs": []
    },
    {
      "cell_type": "code",
      "metadata": {
        "trusted": true,
        "id": "Bh2TvON1JBQS"
      },
      "source": [
        "train_df = pd.get_dummies(train_df, drop_first=True, columns=cat_cols_train)\n",
        "test_df = pd.get_dummies(test_df, drop_first=True, columns=cat_cols_test)"
      ],
      "execution_count": null,
      "outputs": []
    },
    {
      "cell_type": "code",
      "metadata": {
        "trusted": true,
        "id": "U0jWVsSiJBQS"
      },
      "source": [
        "train_df.head()"
      ],
      "execution_count": null,
      "outputs": []
    },
    {
      "cell_type": "markdown",
      "metadata": {
        "id": "M0rooKXbJBQS"
      },
      "source": [
        "### Check train and test for compatability"
      ]
    },
    {
      "cell_type": "code",
      "metadata": {
        "trusted": true,
        "id": "MX51anPZJBQT"
      },
      "source": [
        "# check if both train and test contain same columns\n",
        "train_df.columns"
      ],
      "execution_count": null,
      "outputs": []
    },
    {
      "cell_type": "code",
      "metadata": {
        "trusted": true,
        "id": "aGcTc3RjJBQT"
      },
      "source": [
        "test_df.columns"
      ],
      "execution_count": null,
      "outputs": []
    },
    {
      "cell_type": "code",
      "metadata": {
        "trusted": true,
        "id": "pUVg4SlfJBQT"
      },
      "source": [
        "compat_list = list(set(train_df.columns).intersection(test_df.columns))"
      ],
      "execution_count": null,
      "outputs": []
    },
    {
      "cell_type": "code",
      "metadata": {
        "trusted": true,
        "id": "bjvhOXARJBQU"
      },
      "source": [
        "len(compat_list)"
      ],
      "execution_count": null,
      "outputs": []
    },
    {
      "cell_type": "code",
      "metadata": {
        "trusted": true,
        "id": "tsZoBqY1JBQV"
      },
      "source": [
        "train_X, y = train_df[compat_list], train_df['SalePrice']\n",
        "test_X = test_df[compat_list]"
      ],
      "execution_count": null,
      "outputs": []
    },
    {
      "cell_type": "code",
      "metadata": {
        "trusted": true,
        "id": "7knDOl9BJBQV"
      },
      "source": [
        "(train_X.columns == test_X.columns).sum()"
      ],
      "execution_count": null,
      "outputs": []
    },
    {
      "cell_type": "markdown",
      "metadata": {
        "id": "IpXkO3v5JBQW"
      },
      "source": [
        "## Train Test split"
      ]
    },
    {
      "cell_type": "code",
      "metadata": {
        "trusted": true,
        "id": "fK5cT6xtJBQW"
      },
      "source": [
        "train_x, valid_x, train_y, valid_y = train_test_split(train_X, y, test_size=0.2, random_state=42)"
      ],
      "execution_count": null,
      "outputs": []
    },
    {
      "cell_type": "markdown",
      "metadata": {
        "id": "0Z5QWan-JBQX"
      },
      "source": [
        "## Model"
      ]
    },
    {
      "cell_type": "code",
      "metadata": {
        "trusted": true,
        "id": "Oj6cZyeYJBQY"
      },
      "source": [
        "linear_regressor = LinearRegression()\n",
        "linear_regressor.fit(train_x, train_y)\n",
        "preds = linear_regressor.predict(valid_x)\n",
        "mse(valid_y, preds, squared=False)"
      ],
      "execution_count": null,
      "outputs": []
    },
    {
      "cell_type": "code",
      "metadata": {
        "trusted": true,
        "id": "4I4BhI7gJBQY"
      },
      "source": [
        "models = {\n",
        "    'RFR': RandomForestRegressor,\n",
        "    'ADR': AdaBoostRegressor,\n",
        "    'XGB': XGBRegressor\n",
        "}"
      ],
      "execution_count": null,
      "outputs": []
    },
    {
      "cell_type": "code",
      "metadata": {
        "trusted": true,
        "id": "5HZ7P5nfJBQZ"
      },
      "source": [
        "def fit_model(name, model, train_ds, valid_ds):\n",
        "    X, y = train_ds\n",
        "    X_val, y_val = valid_ds\n",
        "    \n",
        "    model.fit(X, y)\n",
        "    y_hat = model.predict(X)\n",
        "    y_hat_val = model.predict(X_val)\n",
        "    \n",
        "    mse_ = mse(y, y_hat, squared=False)\n",
        "    mse_val = mse(y_val, y_hat_val, squared=False)\n",
        "    \n",
        "    print(f'Model: {name}, Train MSE: {mse_}, Val MSE: {mse_val}')"
      ],
      "execution_count": null,
      "outputs": []
    },
    {
      "cell_type": "code",
      "metadata": {
        "trusted": true,
        "id": "oQrlF3xUJBQZ"
      },
      "source": [
        "n_est = [10, 25, 50, 100, 125]\n",
        "for i in range(len(n_est)):\n",
        "    print(f'n_estimators: {n_est[i]}')\n",
        "    for name, model in models.items():\n",
        "        model = model(n_estimators=n_est[i])\n",
        "        fit_model(name, model, (train_x, train_y), (valid_x, valid_y))\n",
        "    print('-'*20)"
      ],
      "execution_count": null,
      "outputs": []
    },
    {
      "cell_type": "markdown",
      "metadata": {
        "id": "YzsHxaH6JBQa"
      },
      "source": [
        "`n_estimators=25` seems like a sweet spot for `AdaBoostRegressor` and `XGBRegressor`. Lets ensemble te ensembles"
      ]
    },
    {
      "cell_type": "code",
      "metadata": {
        "trusted": true,
        "id": "SPkWgEuEJBQa"
      },
      "source": [
        "abr = AdaBoostRegressor(n_estimators=25)\n",
        "xgr = XGBRegressor(n_estimators=25)\n",
        "\n",
        "abr.fit(train_x, train_y)\n",
        "xgr.fit(train_x, train_y)\n",
        "\n",
        "p1 = abr.predict(valid_x)\n",
        "p2 = xgr.predict(valid_x)\n",
        "p3 = linear_regressor.predict(valid_x)\n",
        "\n",
        "m1 = mse(valid_y, p1, squared=False)\n",
        "m2 = mse(valid_y, p2, squared=False)\n",
        "m3 = mse(valid_y, p3, squared=False)\n",
        "m4 = mse(valid_y, (p1+p2)/2, squared=False)\n",
        "m5 = mse(valid_y, (p1+p2+p3)/3, squared=False)\n",
        "\n",
        "print(f'Ensemble MSE: \\nABR: {m1}\\nXGR: {m2}\\nLinear: {m3}\\nABR+XGR: {m4}\\nABR+XGR+Linear: {m5}')"
      ],
      "execution_count": null,
      "outputs": []
    },
    {
      "cell_type": "markdown",
      "metadata": {
        "id": "sEM1r0nnJBQa"
      },
      "source": [
        "Let's try them all, \n",
        "* linear regressor\n",
        "* Ensemble of AdaBoost and XGBoost\n",
        "* Ensemble of all of the above"
      ]
    },
    {
      "cell_type": "code",
      "metadata": {
        "trusted": true,
        "id": "Q2twEyaPJBQb"
      },
      "source": [
        "pred_1 = linear_regressor.predict(test_X)\n",
        "pred_2 = (abr.predict(test_X) + xgr.predict(test_X))/2\n",
        "pred_3 = (2*pred_2 + pred_1)/3"
      ],
      "execution_count": null,
      "outputs": []
    },
    {
      "cell_type": "code",
      "metadata": {
        "trusted": true,
        "id": "Uk6L_sjWJBQb"
      },
      "source": [
        "def create_submission(preds, name='submission.csv'):\n",
        "    preds = np.expm1(preds)\n",
        "    submission = pd.DataFrame({'Id': test_X.index, 'SalePrice': preds})\n",
        "    submission.to_csv(name, index=False)\n",
        "    return submission"
      ],
      "execution_count": null,
      "outputs": []
    },
    {
      "cell_type": "code",
      "metadata": {
        "trusted": true,
        "id": "4QWlMGveJBQc"
      },
      "source": [
        "create_submission(pred_1, 'submission1.csv')"
      ],
      "execution_count": null,
      "outputs": []
    },
    {
      "cell_type": "code",
      "metadata": {
        "trusted": true,
        "id": "9TYntNH1JBQc"
      },
      "source": [
        "create_submission(pred_2, 'submission2.csv')"
      ],
      "execution_count": null,
      "outputs": []
    },
    {
      "cell_type": "code",
      "metadata": {
        "trusted": true,
        "id": "KJ9sAxTpJBQc"
      },
      "source": [
        "create_submission(pred_3, 'submission3.csv')"
      ],
      "execution_count": null,
      "outputs": []
    },
    {
      "cell_type": "markdown",
      "metadata": {
        "id": "pvuomsteJBQc"
      },
      "source": [
        "## References:\n",
        "\n",
        "https://www.kaggle.com/ankitverma2010/house-prices-prediction-beginner-to-advanced#Exploratory-Data-Analysis"
      ]
    },
    {
      "cell_type": "code",
      "metadata": {
        "trusted": true,
        "id": "9yoHOPWaJBQd"
      },
      "source": [
        ""
      ],
      "execution_count": null,
      "outputs": []
    }
  ]
}